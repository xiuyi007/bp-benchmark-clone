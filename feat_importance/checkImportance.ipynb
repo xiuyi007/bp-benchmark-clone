{
 "cells": [
  {
   "cell_type": "code",
   "execution_count": 67,
   "id": "initial_id",
   "metadata": {
    "collapsed": true,
    "ExecuteTime": {
     "end_time": "2023-11-08T12:40:30.931540300Z",
     "start_time": "2023-11-08T12:40:30.926538600Z"
    }
   },
   "outputs": [],
   "source": [
    "import pickle\n"
   ]
  },
  {
   "cell_type": "code",
   "execution_count": 68,
   "outputs": [],
   "source": [
    "dp_path = './ppgbp_dataset/featImportance-DP.pkl'\n",
    "sp_path = './ppgbp_dataset/featImportance-SP.pkl'"
   ],
   "metadata": {
    "collapsed": false,
    "ExecuteTime": {
     "end_time": "2023-11-08T12:40:30.937599500Z",
     "start_time": "2023-11-08T12:40:30.930540300Z"
    }
   },
   "id": "df38a0840674a985"
  },
  {
   "cell_type": "code",
   "execution_count": 69,
   "outputs": [],
   "source": [
    "with open(dp_path, 'rb') as f:\n",
    "    dp = pickle.load(f)"
   ],
   "metadata": {
    "collapsed": false,
    "ExecuteTime": {
     "end_time": "2023-11-08T12:40:30.942980600Z",
     "start_time": "2023-11-08T12:40:30.935952900Z"
    }
   },
   "id": "b167bc2e67e2f798"
  },
  {
   "cell_type": "code",
   "execution_count": 70,
   "outputs": [],
   "source": [
    "with open(sp_path, 'rb') as f:\n",
    "    sp = pickle.load(f)"
   ],
   "metadata": {
    "collapsed": false,
    "ExecuteTime": {
     "end_time": "2023-11-08T12:40:30.942980600Z",
     "start_time": "2023-11-08T12:40:30.940594200Z"
    }
   },
   "id": "cf3f9137d77bf090"
  },
  {
   "cell_type": "code",
   "execution_count": 71,
   "outputs": [
    {
     "name": "stdout",
     "output_type": "stream",
     "text": [
      "                          features  importance\n",
      "0                         T_peak_e    0.078794\n",
      "1                            apg_d    0.031369\n",
      "2                               S3    0.017173\n",
      "3    ppg_mean_cycles_match_peak_59    0.016383\n",
      "4                        DWdivSW25    0.014371\n",
      "..                             ...         ...\n",
      "213           vpg_histogram_down_5    0.000017\n",
      "214           vpg_histogram_down_6    0.000003\n",
      "215           vpg_histogram_down_7    0.000000\n",
      "216           vpg_histogram_down_8    0.000000\n",
      "217           vpg_histogram_down_9    0.000000\n",
      "\n",
      "[218 rows x 2 columns]\n"
     ]
    }
   ],
   "source": [
    "print(dp)"
   ],
   "metadata": {
    "collapsed": false,
    "ExecuteTime": {
     "end_time": "2023-11-08T12:40:30.952519900Z",
     "start_time": "2023-11-08T12:40:30.944976900Z"
    }
   },
   "id": "db2fd14de726ed39"
  },
  {
   "cell_type": "code",
   "execution_count": 72,
   "outputs": [
    {
     "name": "stdout",
     "output_type": "stream",
     "text": [
      "                          features  importance\n",
      "0                        DWdivSW25    0.092177\n",
      "1                      AUCsys_norm    0.057553\n",
      "2                      AUCdia_norm    0.055472\n",
      "3                     SteepDiaRise    0.044018\n",
      "4    ppg_mean_cycles_match_peak_59    0.023806\n",
      "..                             ...         ...\n",
      "213           apg_histogram_down_9    0.000003\n",
      "214           vpg_histogram_down_6    0.000003\n",
      "215           vpg_histogram_down_8    0.000000\n",
      "216           vpg_histogram_down_7    0.000000\n",
      "217           vpg_histogram_down_9    0.000000\n",
      "\n",
      "[218 rows x 2 columns]\n"
     ]
    }
   ],
   "source": [
    "print(sp)"
   ],
   "metadata": {
    "collapsed": false,
    "ExecuteTime": {
     "end_time": "2023-11-08T12:40:30.989899300Z",
     "start_time": "2023-11-08T12:40:30.949525100Z"
    }
   },
   "id": "9cc4229bc94df831"
  },
  {
   "cell_type": "code",
   "execution_count": 72,
   "outputs": [],
   "source": [],
   "metadata": {
    "collapsed": false,
    "ExecuteTime": {
     "end_time": "2023-11-08T12:40:30.989899300Z",
     "start_time": "2023-11-08T12:40:30.957061600Z"
    }
   },
   "id": "db8a4b17d6d0cc10"
  }
 ],
 "metadata": {
  "kernelspec": {
   "display_name": "Python 3",
   "language": "python",
   "name": "python3"
  },
  "language_info": {
   "codemirror_mode": {
    "name": "ipython",
    "version": 2
   },
   "file_extension": ".py",
   "mimetype": "text/x-python",
   "name": "python",
   "nbconvert_exporter": "python",
   "pygments_lexer": "ipython2",
   "version": "2.7.6"
  }
 },
 "nbformat": 4,
 "nbformat_minor": 5
}
